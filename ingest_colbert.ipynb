{
 "cells": [
  {
   "cell_type": "code",
   "execution_count": null,
   "metadata": {},
   "outputs": [],
   "source": [
    "# %%\n",
    "from ragatouille import RAGPretrainedModel\n",
    "import pandas as pd\n",
    "import pickle\n"
   ]
  },
  {
   "cell_type": "code",
   "execution_count": null,
   "metadata": {},
   "outputs": [],
   "source": [
    "# def get_files_list(csv_file):\n",
    "#     files_list = []\n",
    "#     df = pd.read_csv(csv_file)\n",
    "\n",
    "#     df.columns = df.columns.str.replace(\" \", \"_\").str.lower()\n",
    "\n",
    "#     df = df.drop(df.index[0])\n",
    "\n",
    "\n",
    "#     # split the transcript_or_writing column into pdf name and create new column\n",
    "#     # remove .pdf from pdf_name\n",
    "#     df[\"name\"] = df.transcript_or_writing.str.split(\"/\").str[-1].str.replace(\".pdf\", \"\")\n",
    "\n",
    "#     cols = [\n",
    "#         \"name\",\n",
    "#         \"date\",\n",
    "#         \"title_of_event\",\n",
    "#         \"title_of_talk_or_writing\",\n",
    "#         \"broad_topics\",\n",
    "#         \"detailed_topics\",\n",
    "#         \"length_of_recording\",\n",
    "#         \"type_of_recording\",\n",
    "#     ]\n",
    "#     for row in df[cols].iterrows():\n",
    "#         file_name = f\"{(row[1])['name']}.md\"\n",
    "#         files_list.append(file_name)\n",
    "#     return files_list\n",
    "# files_list = get_files_list(\"data/Rob_Burbea_Transcripts.2023-12-31.csv\")\n",
    "# # %%\n",
    "# def create_collection(files_list):\n",
    "#     docs_collection = []\n",
    "#     for file in files_list:\n",
    "#         try:\n",
    "#             markdown_path = f\"data/md_parts/{file}\"\n",
    "#             with open(markdown_path, \"r\") as f:\n",
    "#                 full_document = f.read()\n",
    "#             docs_collection.append(full_document)\n",
    "#         except FileNotFoundError:\n",
    "#             error_msg = f\"File {file} not found.\"\n",
    "#             print(error_msg)\n",
    "#     return docs_collection\n",
    "\n",
    "# md_collection = create_collection(files_list)\n",
    "# # %%\n",
    "# # pickle list\n",
    "# import pickle\n",
    "# with open('md_collection.pkl', 'wb') as f:\n",
    "#     pickle.dump(md_collection, f)\n",
    "\n",
    "# %%\n"
   ]
  },
  {
   "cell_type": "code",
   "execution_count": null,
   "metadata": {},
   "outputs": [],
   "source": [
    "\n",
    "# load pickle\n",
    "with open('md_collection.pkl', 'rb') as f:\n",
    "    test_collection = pickle.load(f)\n",
    "# %%\n",
    "    \n"
   ]
  },
  {
   "cell_type": "code",
   "execution_count": null,
   "metadata": {},
   "outputs": [],
   "source": [
    "RAG = RAGPretrainedModel.from_pretrained(\"colbert-ir/colbertv2.0\")\n"
   ]
  },
  {
   "cell_type": "code",
   "execution_count": null,
   "metadata": {},
   "outputs": [],
   "source": [
    "\n",
    "RAG.index(\n",
    "    collection=[test_collection[10]],\n",
    "    index_name=\"dharma_colb\",\n",
    "    max_document_length=180,\n",
    "    split_documents=True,\n",
    ")"
   ]
  },
  {
   "cell_type": "markdown",
   "metadata": {},
   "source": []
  }
 ],
 "metadata": {
  "kernelspec": {
   "display_name": "dharmaqa-Y25nlP7w-py3.10",
   "language": "python",
   "name": "python3"
  },
  "language_info": {
   "codemirror_mode": {
    "name": "ipython",
    "version": 3
   },
   "file_extension": ".py",
   "mimetype": "text/x-python",
   "name": "python",
   "nbconvert_exporter": "python",
   "pygments_lexer": "ipython3",
   "version": "3.10.6"
  }
 },
 "nbformat": 4,
 "nbformat_minor": 2
}
